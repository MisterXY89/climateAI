{
 "cells": [
  {
   "cell_type": "code",
   "execution_count": 2,
   "id": "6ef108fd",
   "metadata": {},
   "outputs": [],
   "source": [
    "# imports\n",
    "import matplotlib.pyplot as plt\n",
    "import pandas as pd\n",
    "import glob\n",
    "from sklearn.ensemble import RandomForestRegressor\n",
    "from sklearn.model_selection import train_test_split\n",
    "from sklearn.metrics import mean_squared_error"
   ]
  },
  {
   "cell_type": "markdown",
   "id": "f9bb48be",
   "metadata": {},
   "source": [
    "# Load Data"
   ]
  },
  {
   "cell_type": "code",
   "execution_count": 4,
   "id": "8023ffd1",
   "metadata": {},
   "outputs": [],
   "source": [
    "# use glob to get a list of all csv files in the folder\n",
    "csv_files = glob.glob('../rf_xgb/data/daily/*.csv')\n",
    "\n",
    "# create an empty list to store the data frames\n",
    "df_list = []\n",
    "\n",
    "# use a for loop to read each csv file and store it in the data frame list\n",
    "for file in csv_files:\n",
    "    df = pd.read_csv(file, sep=';')\n",
    "    df_list.append(df)\n",
    "\n",
    "# use pd.concat to merge the data frames in the list\n",
    "df = pd.concat(df_list, ignore_index=True)"
   ]
  },
  {
   "cell_type": "code",
   "execution_count": 6,
   "id": "7f254e5b",
   "metadata": {},
   "outputs": [
    {
     "data": {
      "text/html": [
       "<div>\n",
       "<style scoped>\n",
       "    .dataframe tbody tr th:only-of-type {\n",
       "        vertical-align: middle;\n",
       "    }\n",
       "\n",
       "    .dataframe tbody tr th {\n",
       "        vertical-align: top;\n",
       "    }\n",
       "\n",
       "    .dataframe thead th {\n",
       "        text-align: right;\n",
       "    }\n",
       "</style>\n",
       "<table border=\"1\" class=\"dataframe\">\n",
       "  <thead>\n",
       "    <tr style=\"text-align: right;\">\n",
       "      <th></th>\n",
       "      <th>YYYY</th>\n",
       "      <th>MM</th>\n",
       "      <th>DD</th>\n",
       "      <th>DOY</th>\n",
       "      <th>2m_temp_max</th>\n",
       "      <th>2m_temp_mean</th>\n",
       "      <th>2m_temp_min</th>\n",
       "      <th>2m_dp_temp_max</th>\n",
       "      <th>2m_dp_temp_mean</th>\n",
       "      <th>2m_dp_temp_min</th>\n",
       "      <th>...</th>\n",
       "      <th>swe</th>\n",
       "      <th>surf_net_solar_rad_max</th>\n",
       "      <th>surf_net_solar_rad_mean</th>\n",
       "      <th>surf_net_therm_rad_max</th>\n",
       "      <th>surf_net_therm_rad_mean</th>\n",
       "      <th>surf_press</th>\n",
       "      <th>total_et</th>\n",
       "      <th>prec</th>\n",
       "      <th>volsw_123</th>\n",
       "      <th>volsw_4</th>\n",
       "    </tr>\n",
       "  </thead>\n",
       "  <tbody>\n",
       "    <tr>\n",
       "      <th>0</th>\n",
       "      <td>1981</td>\n",
       "      <td>1</td>\n",
       "      <td>1</td>\n",
       "      <td>1</td>\n",
       "      <td>-8.1</td>\n",
       "      <td>-10.6</td>\n",
       "      <td>-14.6</td>\n",
       "      <td>-11.5</td>\n",
       "      <td>-15.3</td>\n",
       "      <td>-18.9</td>\n",
       "      <td>...</td>\n",
       "      <td>398.22</td>\n",
       "      <td>76</td>\n",
       "      <td>15</td>\n",
       "      <td>32</td>\n",
       "      <td>12</td>\n",
       "      <td>77187</td>\n",
       "      <td>-0.05</td>\n",
       "      <td>3.88</td>\n",
       "      <td>0.39</td>\n",
       "      <td>0.45</td>\n",
       "    </tr>\n",
       "    <tr>\n",
       "      <th>1</th>\n",
       "      <td>1981</td>\n",
       "      <td>1</td>\n",
       "      <td>2</td>\n",
       "      <td>2</td>\n",
       "      <td>-11.5</td>\n",
       "      <td>-13.3</td>\n",
       "      <td>-15.1</td>\n",
       "      <td>-13.4</td>\n",
       "      <td>-15.5</td>\n",
       "      <td>-16.9</td>\n",
       "      <td>...</td>\n",
       "      <td>404.12</td>\n",
       "      <td>109</td>\n",
       "      <td>22</td>\n",
       "      <td>58</td>\n",
       "      <td>20</td>\n",
       "      <td>77098</td>\n",
       "      <td>0.00</td>\n",
       "      <td>8.19</td>\n",
       "      <td>0.39</td>\n",
       "      <td>0.45</td>\n",
       "    </tr>\n",
       "    <tr>\n",
       "      <th>2</th>\n",
       "      <td>1981</td>\n",
       "      <td>1</td>\n",
       "      <td>3</td>\n",
       "      <td>3</td>\n",
       "      <td>-6.0</td>\n",
       "      <td>-8.6</td>\n",
       "      <td>-12.9</td>\n",
       "      <td>-7.0</td>\n",
       "      <td>-10.7</td>\n",
       "      <td>-14.3</td>\n",
       "      <td>...</td>\n",
       "      <td>411.26</td>\n",
       "      <td>89</td>\n",
       "      <td>19</td>\n",
       "      <td>32</td>\n",
       "      <td>5</td>\n",
       "      <td>76521</td>\n",
       "      <td>-0.05</td>\n",
       "      <td>10.02</td>\n",
       "      <td>0.39</td>\n",
       "      <td>0.45</td>\n",
       "    </tr>\n",
       "    <tr>\n",
       "      <th>3</th>\n",
       "      <td>1981</td>\n",
       "      <td>1</td>\n",
       "      <td>4</td>\n",
       "      <td>4</td>\n",
       "      <td>-5.3</td>\n",
       "      <td>-8.2</td>\n",
       "      <td>-13.8</td>\n",
       "      <td>-6.8</td>\n",
       "      <td>-9.6</td>\n",
       "      <td>-16.5</td>\n",
       "      <td>...</td>\n",
       "      <td>429.33</td>\n",
       "      <td>57</td>\n",
       "      <td>11</td>\n",
       "      <td>65</td>\n",
       "      <td>16</td>\n",
       "      <td>75728</td>\n",
       "      <td>-0.01</td>\n",
       "      <td>18.61</td>\n",
       "      <td>0.39</td>\n",
       "      <td>0.45</td>\n",
       "    </tr>\n",
       "    <tr>\n",
       "      <th>4</th>\n",
       "      <td>1981</td>\n",
       "      <td>1</td>\n",
       "      <td>5</td>\n",
       "      <td>5</td>\n",
       "      <td>-13.8</td>\n",
       "      <td>-15.5</td>\n",
       "      <td>-16.6</td>\n",
       "      <td>-16.7</td>\n",
       "      <td>-18.2</td>\n",
       "      <td>-19.6</td>\n",
       "      <td>...</td>\n",
       "      <td>443.55</td>\n",
       "      <td>73</td>\n",
       "      <td>14</td>\n",
       "      <td>63</td>\n",
       "      <td>23</td>\n",
       "      <td>76093</td>\n",
       "      <td>0.12</td>\n",
       "      <td>11.69</td>\n",
       "      <td>0.39</td>\n",
       "      <td>0.45</td>\n",
       "    </tr>\n",
       "  </tbody>\n",
       "</table>\n",
       "<p>5 rows × 25 columns</p>\n",
       "</div>"
      ],
      "text/plain": [
       "   YYYY  MM  DD  DOY  2m_temp_max  2m_temp_mean  2m_temp_min  2m_dp_temp_max  \\\n",
       "0  1981   1   1    1         -8.1         -10.6        -14.6           -11.5   \n",
       "1  1981   1   2    2        -11.5         -13.3        -15.1           -13.4   \n",
       "2  1981   1   3    3         -6.0          -8.6        -12.9            -7.0   \n",
       "3  1981   1   4    4         -5.3          -8.2        -13.8            -6.8   \n",
       "4  1981   1   5    5        -13.8         -15.5        -16.6           -16.7   \n",
       "\n",
       "   2m_dp_temp_mean  2m_dp_temp_min  ...     swe  surf_net_solar_rad_max  \\\n",
       "0            -15.3           -18.9  ...  398.22                      76   \n",
       "1            -15.5           -16.9  ...  404.12                     109   \n",
       "2            -10.7           -14.3  ...  411.26                      89   \n",
       "3             -9.6           -16.5  ...  429.33                      57   \n",
       "4            -18.2           -19.6  ...  443.55                      73   \n",
       "\n",
       "   surf_net_solar_rad_mean  surf_net_therm_rad_max  surf_net_therm_rad_mean  \\\n",
       "0                       15                      32                       12   \n",
       "1                       22                      58                       20   \n",
       "2                       19                      32                        5   \n",
       "3                       11                      65                       16   \n",
       "4                       14                      63                       23   \n",
       "\n",
       "   surf_press  total_et   prec  volsw_123  volsw_4  \n",
       "0       77187     -0.05   3.88       0.39     0.45  \n",
       "1       77098      0.00   8.19       0.39     0.45  \n",
       "2       76521     -0.05  10.02       0.39     0.45  \n",
       "3       75728     -0.01  18.61       0.39     0.45  \n",
       "4       76093      0.12  11.69       0.39     0.45  \n",
       "\n",
       "[5 rows x 25 columns]"
      ]
     },
     "execution_count": 6,
     "metadata": {},
     "output_type": "execute_result"
    }
   ],
   "source": [
    "df.head()"
   ]
  },
  {
   "cell_type": "code",
   "execution_count": 7,
   "id": "e7f1f461",
   "metadata": {},
   "outputs": [],
   "source": [
    "# Load data\n",
    "X =  df.drop(columns=['prec'])\n",
    "y = df['prec']\n",
    "\n",
    "# Split data into training and a test set using 70:30 ratio\n",
    "X_train, X_test, y_train, y_test = train_test_split(X, y, test_size=0.3, random_state=42)\n",
    "\n",
    "# Create a Random Forest Regressor\n",
    "# regressor_rf = RandomForestRegressor(n_estimators=10)"
   ]
  },
  {
   "cell_type": "code",
   "execution_count": null,
   "id": "3cf95991",
   "metadata": {},
   "outputs": [],
   "source": [
    "# run"
   ]
  },
  {
   "cell_type": "code",
   "execution_count": null,
   "id": "ed82943e",
   "metadata": {},
   "outputs": [],
   "source": []
  },
  {
   "cell_type": "code",
   "execution_count": null,
   "id": "81ca0a86",
   "metadata": {},
   "outputs": [],
   "source": []
  },
  {
   "cell_type": "code",
   "execution_count": null,
   "id": "d0d66cb3",
   "metadata": {},
   "outputs": [],
   "source": []
  },
  {
   "cell_type": "code",
   "execution_count": 28,
   "id": "7b8aa505",
   "metadata": {},
   "outputs": [
    {
     "data": {
      "text/plain": [
       "RandomForestRegressor(n_estimators=10)"
      ]
     },
     "execution_count": 28,
     "metadata": {},
     "output_type": "execute_result"
    }
   ],
   "source": [
    "# Train the model on the training data\n",
    "regressor_rf.fit(X_train, y_train)"
   ]
  },
  {
   "cell_type": "code",
   "execution_count": 29,
   "id": "062d1765",
   "metadata": {},
   "outputs": [
    {
     "name": "stdout",
     "output_type": "stream",
     "text": [
      "MSE: 6.811402713305985\n",
      "MAE: 1.45148372152999\n",
      "R2: 0.8539270025979271\n"
     ]
    }
   ],
   "source": [
    "# Make predictions on the test data\n",
    "y_pred = regressor_rf.predict(X_test)\n",
    "\n",
    "# Compute the evaluation metrics\n",
    "mse = mean_squared_error(y_test, y_pred)\n",
    "mae = mean_absolute_error(y_test, y_pred)\n",
    "r2 = r2_score(y_test, y_pred)\n",
    "\n",
    "print(\"MSE:\", mse)\n",
    "print(\"MAE:\", mae)\n",
    "print(\"R2:\", r2)"
   ]
  },
  {
   "cell_type": "code",
   "execution_count": 25,
   "id": "7a3ce61a",
   "metadata": {},
   "outputs": [],
   "source": [
    "# Feature Importance Study - Random Forrest"
   ]
  },
  {
   "cell_type": "code",
   "execution_count": 31,
   "id": "37518a60",
   "metadata": {},
   "outputs": [
    {
     "name": "stdout",
     "output_type": "stream",
     "text": [
      "[0.03118909 0.00406084 0.02471471 0.04894647 0.02170812 0.01858525\n",
      " 0.01869351 0.08352902 0.02054305 0.01926081 0.07127508 0.02366143\n",
      " 0.00970456 0.00869723 0.00721238 0.02559175 0.02865098 0.04745009\n",
      " 0.07292891 0.30410109 0.01916313 0.07173012 0.0107965  0.0078059 ]\n"
     ]
    },
    {
     "data": {
      "image/png": "[encoded data removed]",
      "text/plain": [
       "<Figure size 432x288 with 1 Axes>"
      ]
     },
     "metadata": {
      "needs_background": "light"
     },
     "output_type": "display_data"
    }
   ],
   "source": [
    "# Get the feature importances\n",
    "importances_rf = regressor_rf.feature_importances_\n",
    "\n",
    "# Print the feature importances\n",
    "print(importances_rf)\n",
    "\n",
    "# Sort the features by their importance\n",
    "sorted_idx = importances_rf.argsort()[::-1]\n",
    "\n",
    "# Get the names of the features\n",
    "feature_names = X.columns[sorted_idx]\n",
    "\n",
    "# Create a bar plot of the feature importances\n",
    "plt.bar(range(X.shape[1]), importances_rf[sorted_idx])\n",
    "plt.xticks(range(X.shape[1]), feature_names, rotation=90)\n",
    "plt.show()"
   ]
  },
  {
   "cell_type": "code",
   "execution_count": 23,
   "id": "e91cc160",
   "metadata": {},
   "outputs": [
    {
     "name": "stderr",
     "output_type": "stream",
     "text": [
      "/Users/anton/opt/anaconda3/lib/python3.9/site-packages/xgboost/data.py:250: FutureWarning: pandas.Int64Index is deprecated and will be removed from pandas in a future version. Use pandas.Index with the appropriate dtype instead.\n",
      "  elif isinstance(data.columns, (pd.Int64Index, pd.RangeIndex)):\n"
     ]
    },
    {
     "name": "stdout",
     "output_type": "stream",
     "text": [
      "MSE: 16.709745427207466\n",
      "MAE: 2.442854447585671\n",
      "R2: 0.641653459189893\n"
     ]
    }
   ],
   "source": [
    "# Split the data into a training set and a test set\n",
    "X_train, X_test, y_train, y_test = train_test_split(X, y, test_size=0.3, random_state=42)\n",
    "\n",
    "# Create an XGBoost Regressor\n",
    "regressor_xgb = XGBRegressor(n_estimators=10)\n",
    "\n",
    "# Train the model on the training data\n",
    "regressor_xgb.fit(X_train, y_train)\n",
    "\n",
    "# Make predictions on the test data\n",
    "y_pred = regressor_xgb.predict(X_test)\n",
    "\n",
    "# Compute the evaluation metrics\n",
    "mse = mean_squared_error(y_test, y_pred)\n",
    "mae = mean_absolute_error(y_test, y_pred)\n",
    "r2 = r2_score(y_test, y_pred)\n",
    "\n",
    "print(\"MSE:\", mse)\n",
    "print(\"MAE:\", mae)\n",
    "print(\"R2:\", r2)\n"
   ]
  },
  {
   "cell_type": "code",
   "execution_count": null,
   "id": "3462756b",
   "metadata": {},
   "outputs": [],
   "source": [
    "# Feature Importance Study - XGB Boost"
   ]
  },
  {
   "cell_type": "code",
   "execution_count": 24,
   "id": "6ea69647",
   "metadata": {},
   "outputs": [
    {
     "name": "stdout",
     "output_type": "stream",
     "text": [
      "[0.01081704 0.02623272 0.00513267 0.02148285 0.01232988 0.01448273\n",
      " 0.02636402 0.09143736 0.06738079 0.02456484 0.06362141 0.01511783\n",
      " 0.02754357 0.00963072 0.0055528  0.02739883 0.05358868 0.02945362\n",
      " 0.07874238 0.30800354 0.01025178 0.05552091 0.01154144 0.00380752]\n"
     ]
    },
    {
     "data": {
      "image/png": "[encoded data removed]",
      "text/plain": [
       "<Figure size 432x288 with 1 Axes>"
      ]
     },
     "metadata": {
      "needs_background": "light"
     },
     "output_type": "display_data"
    }
   ],
   "source": [
    "# Get the feature importances\n",
    "importances_xgb = regressor_xgb.feature_importances_\n",
    "\n",
    "# Print the feature importances\n",
    "print(importances_xgb)\n",
    "\n",
    "# Sort the features by their importance\n",
    "sorted_idx = importances_xgb.argsort()[::-1]\n",
    "\n",
    "# Get the names of the features\n",
    "feature_names = X.columns[sorted_idx]\n",
    "\n",
    "# Create a bar plot of the feature importances\n",
    "plt.bar(range(X.shape[1]), importances_xgb[sorted_idx])\n",
    "plt.xticks(range(X.shape[1]), feature_names, rotation=90)\n",
    "plt.show()\n"
   ]
  }
 ],
 "metadata": {
  "kernelspec": {
   "display_name": "Python 3 (ipykernel)",
   "language": "python",
   "name": "python3"
  },
  "language_info": {
   "codemirror_mode": {
    "name": "ipython",
    "version": 3
   },
   "file_extension": ".py",
   "mimetype": "text/x-python",
   "name": "python",
   "nbconvert_exporter": "python",
   "pygments_lexer": "ipython3",
   "version": "3.9.15"
  }
 },
 "nbformat": 4,
 "nbformat_minor": 5
}
