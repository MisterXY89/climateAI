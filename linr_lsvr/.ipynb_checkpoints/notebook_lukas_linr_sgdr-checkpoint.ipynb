{
 "cells": [
  {
   "cell_type": "code",
   "execution_count": 17,
   "id": "6ef108fd",
   "metadata": {},
   "outputs": [],
   "source": [
    "# imports\n",
    "import matplotlib.pyplot as plt\n",
    "import pandas as pd\n",
    "import glob\n",
    "from sklearn.linear_model import LinearRegression, SGDRegressor\n",
    "from sklearn.svm import SVR\n",
    "from sklearn.svm import LinearSVR\n",
    "from sklearn.model_selection import train_test_split\n",
    "from sklearn.metrics import mean_squared_error, mean_absolute_error, r2_score"
   ]
  },
  {
   "cell_type": "markdown",
   "id": "3d3a6c48",
   "metadata": {},
   "source": [
    "# Load Data"
   ]
  },
  {
   "cell_type": "code",
   "execution_count": 18,
   "id": "8023ffd1",
   "metadata": {},
   "outputs": [],
   "source": [
    "# use glob to get a list of all csv files in the folder\n",
    "csv_files = glob.glob('../rf_xgb/data/daily/*.csv')\n",
    "\n",
    "# create an empty list to store the data frames\n",
    "df_list = []\n",
    "\n",
    "# use a for loop to read each csv file and store it in the data frame list\n",
    "for file in csv_files:\n",
    "    df = pd.read_csv(file, sep=';')\n",
    "    df_list.append(df)\n",
    "\n",
    "# use pd.concat to merge the data frames in the list\n",
    "df = pd.concat(df_list, ignore_index=True)"
   ]
  },
  {
   "cell_type": "code",
   "execution_count": 3,
   "id": "7f254e5b",
   "metadata": {},
   "outputs": [
    {
     "data": {
      "text/html": [
       "<div>\n",
       "<style scoped>\n",
       "    .dataframe tbody tr th:only-of-type {\n",
       "        vertical-align: middle;\n",
       "    }\n",
       "\n",
       "    .dataframe tbody tr th {\n",
       "        vertical-align: top;\n",
       "    }\n",
       "\n",
       "    .dataframe thead th {\n",
       "        text-align: right;\n",
       "    }\n",
       "</style>\n",
       "<table border=\"1\" class=\"dataframe\">\n",
       "  <thead>\n",
       "    <tr style=\"text-align: right;\">\n",
       "      <th></th>\n",
       "      <th>YYYY</th>\n",
       "      <th>MM</th>\n",
       "      <th>DD</th>\n",
       "      <th>DOY</th>\n",
       "      <th>2m_temp_max</th>\n",
       "      <th>2m_temp_mean</th>\n",
       "      <th>2m_temp_min</th>\n",
       "      <th>2m_dp_temp_max</th>\n",
       "      <th>2m_dp_temp_mean</th>\n",
       "      <th>2m_dp_temp_min</th>\n",
       "      <th>...</th>\n",
       "      <th>swe</th>\n",
       "      <th>surf_net_solar_rad_max</th>\n",
       "      <th>surf_net_solar_rad_mean</th>\n",
       "      <th>surf_net_therm_rad_max</th>\n",
       "      <th>surf_net_therm_rad_mean</th>\n",
       "      <th>surf_press</th>\n",
       "      <th>total_et</th>\n",
       "      <th>prec</th>\n",
       "      <th>volsw_123</th>\n",
       "      <th>volsw_4</th>\n",
       "    </tr>\n",
       "  </thead>\n",
       "  <tbody>\n",
       "    <tr>\n",
       "      <th>0</th>\n",
       "      <td>1981</td>\n",
       "      <td>1</td>\n",
       "      <td>1</td>\n",
       "      <td>1</td>\n",
       "      <td>-8.1</td>\n",
       "      <td>-10.6</td>\n",
       "      <td>-14.6</td>\n",
       "      <td>-11.5</td>\n",
       "      <td>-15.3</td>\n",
       "      <td>-18.9</td>\n",
       "      <td>...</td>\n",
       "      <td>398.22</td>\n",
       "      <td>76</td>\n",
       "      <td>15</td>\n",
       "      <td>32</td>\n",
       "      <td>12</td>\n",
       "      <td>77187</td>\n",
       "      <td>-0.05</td>\n",
       "      <td>3.88</td>\n",
       "      <td>0.39</td>\n",
       "      <td>0.45</td>\n",
       "    </tr>\n",
       "    <tr>\n",
       "      <th>1</th>\n",
       "      <td>1981</td>\n",
       "      <td>1</td>\n",
       "      <td>2</td>\n",
       "      <td>2</td>\n",
       "      <td>-11.5</td>\n",
       "      <td>-13.3</td>\n",
       "      <td>-15.1</td>\n",
       "      <td>-13.4</td>\n",
       "      <td>-15.5</td>\n",
       "      <td>-16.9</td>\n",
       "      <td>...</td>\n",
       "      <td>404.12</td>\n",
       "      <td>109</td>\n",
       "      <td>22</td>\n",
       "      <td>58</td>\n",
       "      <td>20</td>\n",
       "      <td>77098</td>\n",
       "      <td>0.00</td>\n",
       "      <td>8.19</td>\n",
       "      <td>0.39</td>\n",
       "      <td>0.45</td>\n",
       "    </tr>\n",
       "    <tr>\n",
       "      <th>2</th>\n",
       "      <td>1981</td>\n",
       "      <td>1</td>\n",
       "      <td>3</td>\n",
       "      <td>3</td>\n",
       "      <td>-6.0</td>\n",
       "      <td>-8.6</td>\n",
       "      <td>-12.9</td>\n",
       "      <td>-7.0</td>\n",
       "      <td>-10.7</td>\n",
       "      <td>-14.3</td>\n",
       "      <td>...</td>\n",
       "      <td>411.26</td>\n",
       "      <td>89</td>\n",
       "      <td>19</td>\n",
       "      <td>32</td>\n",
       "      <td>5</td>\n",
       "      <td>76521</td>\n",
       "      <td>-0.05</td>\n",
       "      <td>10.02</td>\n",
       "      <td>0.39</td>\n",
       "      <td>0.45</td>\n",
       "    </tr>\n",
       "    <tr>\n",
       "      <th>3</th>\n",
       "      <td>1981</td>\n",
       "      <td>1</td>\n",
       "      <td>4</td>\n",
       "      <td>4</td>\n",
       "      <td>-5.3</td>\n",
       "      <td>-8.2</td>\n",
       "      <td>-13.8</td>\n",
       "      <td>-6.8</td>\n",
       "      <td>-9.6</td>\n",
       "      <td>-16.5</td>\n",
       "      <td>...</td>\n",
       "      <td>429.33</td>\n",
       "      <td>57</td>\n",
       "      <td>11</td>\n",
       "      <td>65</td>\n",
       "      <td>16</td>\n",
       "      <td>75728</td>\n",
       "      <td>-0.01</td>\n",
       "      <td>18.61</td>\n",
       "      <td>0.39</td>\n",
       "      <td>0.45</td>\n",
       "    </tr>\n",
       "    <tr>\n",
       "      <th>4</th>\n",
       "      <td>1981</td>\n",
       "      <td>1</td>\n",
       "      <td>5</td>\n",
       "      <td>5</td>\n",
       "      <td>-13.8</td>\n",
       "      <td>-15.5</td>\n",
       "      <td>-16.6</td>\n",
       "      <td>-16.7</td>\n",
       "      <td>-18.2</td>\n",
       "      <td>-19.6</td>\n",
       "      <td>...</td>\n",
       "      <td>443.55</td>\n",
       "      <td>73</td>\n",
       "      <td>14</td>\n",
       "      <td>63</td>\n",
       "      <td>23</td>\n",
       "      <td>76093</td>\n",
       "      <td>0.12</td>\n",
       "      <td>11.69</td>\n",
       "      <td>0.39</td>\n",
       "      <td>0.45</td>\n",
       "    </tr>\n",
       "  </tbody>\n",
       "</table>\n",
       "<p>5 rows × 25 columns</p>\n",
       "</div>"
      ],
      "text/plain": [
       "   YYYY  MM  DD  DOY  2m_temp_max  2m_temp_mean  2m_temp_min  2m_dp_temp_max  \\\n",
       "0  1981   1   1    1         -8.1         -10.6        -14.6           -11.5   \n",
       "1  1981   1   2    2        -11.5         -13.3        -15.1           -13.4   \n",
       "2  1981   1   3    3         -6.0          -8.6        -12.9            -7.0   \n",
       "3  1981   1   4    4         -5.3          -8.2        -13.8            -6.8   \n",
       "4  1981   1   5    5        -13.8         -15.5        -16.6           -16.7   \n",
       "\n",
       "   2m_dp_temp_mean  2m_dp_temp_min  ...     swe  surf_net_solar_rad_max  \\\n",
       "0            -15.3           -18.9  ...  398.22                      76   \n",
       "1            -15.5           -16.9  ...  404.12                     109   \n",
       "2            -10.7           -14.3  ...  411.26                      89   \n",
       "3             -9.6           -16.5  ...  429.33                      57   \n",
       "4            -18.2           -19.6  ...  443.55                      73   \n",
       "\n",
       "   surf_net_solar_rad_mean  surf_net_therm_rad_max  surf_net_therm_rad_mean  \\\n",
       "0                       15                      32                       12   \n",
       "1                       22                      58                       20   \n",
       "2                       19                      32                        5   \n",
       "3                       11                      65                       16   \n",
       "4                       14                      63                       23   \n",
       "\n",
       "   surf_press  total_et   prec  volsw_123  volsw_4  \n",
       "0       77187     -0.05   3.88       0.39     0.45  \n",
       "1       77098      0.00   8.19       0.39     0.45  \n",
       "2       76521     -0.05  10.02       0.39     0.45  \n",
       "3       75728     -0.01  18.61       0.39     0.45  \n",
       "4       76093      0.12  11.69       0.39     0.45  \n",
       "\n",
       "[5 rows x 25 columns]"
      ]
     },
     "execution_count": 3,
     "metadata": {},
     "output_type": "execute_result"
    }
   ],
   "source": [
    "df.head()"
   ]
  },
  {
   "cell_type": "code",
   "execution_count": 4,
   "id": "e7f1f461",
   "metadata": {},
   "outputs": [],
   "source": [
    "# Load data\n",
    "X =  df.drop(columns=['prec'])\n",
    "y = df['prec']\n",
    "\n",
    "# Split data into training and a test set using 70:30 ratio\n",
    "X_train, X_test, y_train, y_test = train_test_split(X, y, test_size=0.3, random_state=42)"
   ]
  },
  {
   "cell_type": "markdown",
   "id": "39960347",
   "metadata": {},
   "source": [
    "# Build and evaluate models"
   ]
  },
  {
   "cell_type": "markdown",
   "id": "ac5c1b6c",
   "metadata": {},
   "source": [
    "## Model 1: Linear Regression"
   ]
  },
  {
   "cell_type": "code",
   "execution_count": 5,
   "id": "eaab4097",
   "metadata": {},
   "outputs": [],
   "source": [
    "# Train linear regression model\n",
    "linr = LinearRegression().fit(X_train, y_train)\n",
    "\n",
    "# Make predictions with linear regression model\n",
    "linr_y_pred = linr.predict(X_test)"
   ]
  },
  {
   "cell_type": "markdown",
   "id": "f349ef14",
   "metadata": {},
   "source": [
    "## Model 2: Linear Support Vector Regression (LSVR)"
   ]
  },
  {
   "cell_type": "code",
   "execution_count": 12,
   "id": "be0c976a",
   "metadata": {
    "collapsed": true
   },
   "outputs": [
    {
     "name": "stdout",
     "output_type": "stream",
     "text": [
      "[LibLinear]..........\n",
      "optimization finished, #iter = 100\n",
      "\n",
      "WARNING: reaching max number of iterations\n",
      "Using -s 11 may be faster\n",
      "\n",
      "Objective value = -0.414812\n",
      "nSV = 977138\n"
     ]
    },
    {
     "name": "stderr",
     "output_type": "stream",
     "text": [
      "/opt/homebrew/lib/python3.9/site-packages/sklearn/svm/_base.py:1225: ConvergenceWarning: Liblinear failed to converge, increase the number of iterations.\n",
      "  warnings.warn(\n"
     ]
    }
   ],
   "source": [
    "# Train LSVR regression model\n",
    "lsvr = LinearSVR(max_iter=100, verbose=1).fit(X_train, y_train)\n",
    "\n",
    "# Make predictions with LSVR regression model\n",
    "lsvr_y_pred = lsvr.predict(X_test)"
   ]
  },
  {
   "cell_type": "markdown",
   "id": "911b8d06",
   "metadata": {},
   "source": [
    "## Evaluate Models using MSE, MAE and R2 Score"
   ]
  },
  {
   "cell_type": "code",
   "execution_count": 15,
   "id": "062d1765",
   "metadata": {},
   "outputs": [
    {
     "name": "stdout",
     "output_type": "stream",
     "text": [
      "[Linear Regression] MSE: 23.84620647252732\n",
      "[Linear Regression] MAE: 3.295380363767914\n",
      "[Linear Regression] R2: 0.48860946816340434\n",
      "[LSVR] MSE: 33.05018684055248\n",
      "[LSVR] MAE: 3.7560255021699676\n",
      "[LSVR] R2: 0.29122677667154784\n"
     ]
    }
   ],
   "source": [
    "# Compute the evaluation metrics\n",
    "linr_mse = mean_squared_error(y_test, linr_y_pred)\n",
    "linr_mae = mean_absolute_error(y_test, linr_y_pred)\n",
    "linr_r2 = r2_score(y_test, linr_y_pred)\n",
    "\n",
    "lsvr_mse = mean_squared_error(y_test, lsvr_y_pred)\n",
    "lsvr_mae = mean_absolute_error(y_test, lsvr_y_pred)\n",
    "lsvr_r2 = r2_score(y_test, lsvr_y_pred)\n",
    "\n",
    "print(\"[Linear Regression] MSE:\", linr_mse)\n",
    "print(\"[Linear Regression] MAE:\", linr_mae)\n",
    "print(\"[Linear Regression] R2:\", linr_r2)\n",
    "print(\"[LSVR] MSE:\", lsvr_mse)\n",
    "print(\"[LSVR] MAE:\", lsvr_mae)\n",
    "print(\"[LSVR] R2:\", lsvr_r2)"
   ]
  },
  {
   "cell_type": "markdown",
   "id": "58fdf025",
   "metadata": {},
   "source": [
    "# Analyse feature importances"
   ]
  },
  {
   "cell_type": "code",
   "execution_count": 16,
   "id": "248eee2e",
   "metadata": {},
   "outputs": [
    {
     "data": {
      "image/png": "[encoded data removed]",
      "text/plain": [
       "<Figure size 432x288 with 1 Axes>"
      ]
     },
     "metadata": {
      "needs_background": "light"
     },
     "output_type": "display_data"
    },
    {
     "data": {
      "image/png": "[encoded data removed]",
      "text/plain": [
       "<Figure size 432x288 with 1 Axes>"
      ]
     },
     "metadata": {
      "needs_background": "light"
     },
     "output_type": "display_data"
    }
   ],
   "source": [
    "linr_coefficients = linr.coef_\n",
    "lsvr_coefficients = lsvr.coef_\n",
    "\n",
    "sorted_idx = linr_coefficients.argsort()[::-1]\n",
    "sorted_idx = lsvr_coefficients.argsort()[::-1]\n",
    "\n",
    "# Get the names of the features\n",
    "feature_names = X.columns[sorted_idx]\n",
    "\n",
    "# Create a bar plot of the feature importances of the linear regression model\n",
    "plt.bar(range(X.shape[1]), linr_coefficients[sorted_idx])\n",
    "plt.xticks(range(X.shape[1]), feature_names, rotation=90)\n",
    "plt.title(\"Linear Regression Feature Importances\")\n",
    "plt.show()\n",
    "\n",
    "# Create a bar plot of the feature importances of the Linear SVR model\n",
    "plt.bar(range(X.shape[1]), lsvr_coefficients[sorted_idx])\n",
    "plt.xticks(range(X.shape[1]), feature_names, rotation=90)\n",
    "plt.title(\"Linear SVR Feature Importances\")\n",
    "plt.show()"
   ]
  },
  {
   "cell_type": "code",
   "execution_count": null,
   "id": "729acd0d",
   "metadata": {},
   "outputs": [],
   "source": []
  }
 ],
 "metadata": {
  "kernelspec": {
   "display_name": "Python 3 (ipykernel)",
   "language": "python",
   "name": "python3"
  },
  "language_info": {
   "codemirror_mode": {
    "name": "ipython",
    "version": 3
   },
   "file_extension": ".py",
   "mimetype": "text/x-python",
   "name": "python",
   "nbconvert_exporter": "python",
   "pygments_lexer": "ipython3",
   "version": "3.9.15"
  }
 },
 "nbformat": 4,
 "nbformat_minor": 5
}
